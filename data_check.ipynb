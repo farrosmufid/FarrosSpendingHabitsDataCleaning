{
 "cells": [
  {
   "cell_type": "code",
   "execution_count": 2,
   "metadata": {},
   "outputs": [],
   "source": [
    "import pandas as pd\n",
    "import numpy as np"
   ]
  },
  {
   "cell_type": "code",
   "execution_count": 3,
   "metadata": {},
   "outputs": [],
   "source": [
    "df = pd.read_csv('transactions2024.csv')\n",
    "\n",
    "# Exclude Credit Subcategory\n",
    "df = df[df['Subcategory'] != 'Credit']\n",
    "\n",
    "# Exclude Cash Deposit Subcategory\n",
    "df = df[df['Subcategory'] != 'Cash Deposit']"
   ]
  },
  {
   "cell_type": "code",
   "execution_count": 4,
   "metadata": {},
   "outputs": [
    {
     "data": {
      "text/plain": [
       "7"
      ]
     },
     "execution_count": 4,
     "metadata": {},
     "output_type": "execute_result"
    }
   ],
   "source": [
    "len(df['Category'].unique())"
   ]
  },
  {
   "cell_type": "code",
   "execution_count": 5,
   "metadata": {},
   "outputs": [
    {
     "data": {
      "text/plain": [
       "Index(['Date', 'Amount', 'Description', 'Balance', 'Subcategory', 'Category'], dtype='object')"
      ]
     },
     "execution_count": 5,
     "metadata": {},
     "output_type": "execute_result"
    }
   ],
   "source": [
    "df.columns"
   ]
  },
  {
   "cell_type": "code",
   "execution_count": 6,
   "metadata": {},
   "outputs": [],
   "source": [
    "df['Payment'] = np.abs(df['Amount'])"
   ]
  },
  {
   "cell_type": "code",
   "execution_count": 7,
   "metadata": {},
   "outputs": [
    {
     "name": "stdout",
     "output_type": "stream",
     "text": [
      "Number of transcations: 1060\n",
      "Number of categories: 7\n",
      "Number of subcategories: 19\n",
      "Total Spending: 41326.6\n",
      "Maximum Spending: 1140.36\n",
      "Average Spending: 38.99\n"
     ]
    }
   ],
   "source": [
    "print(\"Number of transcations: {}\".format(len(df)))\n",
    "print(\"Number of categories: {}\".format(len(df['Category'].unique())))\n",
    "print(\"Number of subcategories: {}\".format(len(df['Subcategory'].unique())))\n",
    "print(\"Total Spending: {}\".format(df['Payment'].sum()))\n",
    "print(\"Maximum Spending: {}\".format(df['Payment'].max()))\n",
    "print(\"Average Spending: {:0.2f}\".format(df['Payment'].mean()))"
   ]
  }
 ],
 "metadata": {
  "kernelspec": {
   "display_name": "Python 3",
   "language": "python",
   "name": "python3"
  },
  "language_info": {
   "codemirror_mode": {
    "name": "ipython",
    "version": 3
   },
   "file_extension": ".py",
   "mimetype": "text/x-python",
   "name": "python",
   "nbconvert_exporter": "python",
   "pygments_lexer": "ipython3",
   "version": "3.10.7"
  }
 },
 "nbformat": 4,
 "nbformat_minor": 2
}
